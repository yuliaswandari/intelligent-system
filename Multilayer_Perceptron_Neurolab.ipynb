{
  "nbformat": 4,
  "nbformat_minor": 0,
  "metadata": {
    "colab": {
      "name": "Multilayer Perceptron Neurolab.ipynb",
      "provenance": [],
      "include_colab_link": true
    },
    "kernelspec": {
      "name": "python3",
      "display_name": "Python 3"
    }
  },
  "cells": [
    {
      "cell_type": "markdown",
      "metadata": {
        "id": "view-in-github",
        "colab_type": "text"
      },
      "source": [
        "<a href=\"https://colab.research.google.com/github/yuliaswandari/intelligent-system/blob/main/Multilayer_Perceptron_Neurolab.ipynb\" target=\"_parent\"><img src=\"https://colab.research.google.com/assets/colab-badge.svg\" alt=\"Open In Colab\"/></a>"
      ]
    },
    {
      "cell_type": "code",
      "metadata": {
        "id": "Zens127EnNIw",
        "outputId": "7695c794-5af2-4fdd-a43c-e650549c53ba",
        "colab": {
          "base_uri": "https://localhost:8080/",
          "height": 35
        }
      },
      "source": [
        "!pip install neurolab"
      ],
      "execution_count": null,
      "outputs": [
        {
          "output_type": "stream",
          "text": [
            "Requirement already satisfied: neurolab in /usr/local/lib/python3.6/dist-packages (0.3.5)\n"
          ],
          "name": "stdout"
        }
      ]
    },
    {
      "cell_type": "code",
      "metadata": {
        "id": "8DbKki-rrmO3",
        "outputId": "1908faaa-818a-4d42-cad9-f174d991ab5b",
        "colab": {
          "base_uri": "https://localhost:8080/",
          "height": 248
        }
      },
      "source": [
        "# -*- coding: utf-8 -*-\n",
        "\"\"\" \n",
        "Example of use multi-layer perceptron\n",
        "=====================================\n",
        "\n",
        "\"\"\"\n",
        "\n",
        "import neurolab as nl\n",
        "import numpy as np\n",
        "\n",
        "# Create train samples\n",
        "x = np.array([1,1,0,1,1,0,0,0])\n",
        "y = np.array([0,1,1,0])\n",
        "\n",
        "inp = x.reshape(4,2)\n",
        "tar = y.reshape(4,1)\n",
        "\n",
        "# Create network with 2 layers and random initialized\n",
        "net = nl.net.newff([[-0.1, 0.1], [-0.1, 0.1]],[4, 1])\n",
        "\n",
        "# Train network\n",
        "error = net.train(inp, tar)\n",
        "\n",
        "# Simulate network\n",
        "out = net.sim(inp)\n",
        "print (\"Output\")\n",
        "print(out)\n",
        "e = tar - out\n",
        "print(\"Error\")\n",
        "print (e)\n",
        "MSE = (e[0]**2+e[1]**2+e[2]**2+e[3]**2)/4\n",
        "print(\"MSE\")\n",
        "print(MSE)\n"
      ],
      "execution_count": null,
      "outputs": [
        {
          "output_type": "stream",
          "text": [
            "The goal of learning is reached\n",
            "Output\n",
            "[[-0.05005441]\n",
            " [ 0.95647702]\n",
            " [ 0.94215156]\n",
            " [ 0.01228649]]\n",
            "Error\n",
            "[[ 0.05005441]\n",
            " [ 0.04352298]\n",
            " [ 0.05784844]\n",
            " [-0.01228649]]\n",
            "MSE\n",
            "[0.00197427]\n"
          ],
          "name": "stdout"
        }
      ]
    }
  ]
}