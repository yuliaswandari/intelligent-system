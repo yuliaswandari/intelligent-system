{
  "nbformat": 4,
  "nbformat_minor": 0,
  "metadata": {
    "colab": {
      "name": "Siswa_Baru_Multilayer_Perceptron_Neurolab.ipynb",
      "provenance": [],
      "history_visible": true,
      "authorship_tag": "ABX9TyOEJ9MMfuOiiloiRD7f56ab",
      "include_colab_link": true
    },
    "kernelspec": {
      "name": "python3",
      "display_name": "Python 3"
    },
    "language_info": {
      "name": "python"
    }
  },
  "cells": [
    {
      "cell_type": "markdown",
      "metadata": {
        "id": "view-in-github",
        "colab_type": "text"
      },
      "source": [
        "<a href=\"https://colab.research.google.com/github/yuliaswandari/intelligent-system/blob/main/Siswa_Baru_Multilayer_Perceptron_Neurolab.ipynb\" target=\"_parent\"><img src=\"https://colab.research.google.com/assets/colab-badge.svg\" alt=\"Open In Colab\"/></a>"
      ]
    },
    {
      "cell_type": "code",
      "execution_count": null,
      "metadata": {
        "id": "P3lzlUdEsgx6"
      },
      "outputs": [],
      "source": [
        "!pip install neurolab"
      ]
    },
    {
      "cell_type": "code",
      "source": [
        "# -*- coding: utf-8 -*-\n",
        "\"\"\" \n",
        "Example of use multi-layer perceptron\n",
        "=====================================\n",
        "\n",
        "\"\"\"\n",
        "\n",
        "import neurolab as nl\n",
        "import numpy as np\n",
        "\n",
        "# Create train samples\n",
        "#x = np.array([[0.8519,1.000], [0.1111,0.2315], [0.1574,0.1759], [0.0093,0.0185], [0.0093,0.000], [0.3056,0.1944]])\n",
        "x = np.array([[1.000,0.9537], [0.2315,0.1296], [0.1759,0.1574], [0.0185,0.0093], [0.000,0.0278], [0.1944,0.2407]])\n",
        "#y = np.array([0.9537,0.1296,0.1574,0.0093,0.0278,0.2407])\n",
        "\n",
        "inp = x.reshape(6,2)\n",
        "#tar = y.reshape(6,1)\n",
        "\n",
        "# Create network with 2 layers and random initialized\n",
        "net = nl.net.newff([[-0.1, 0.1], [-0.1, 0.1]],[4, 1])\n",
        "\n",
        "# Train network\n",
        "#error = net.train(inp, tar)\n",
        "\n",
        "# Simulate network\n",
        "out = net.sim(inp)\n",
        "print (\"Output\")\n",
        "print(out)\n",
        "#e = tar - out\n",
        "#print(\"Error\")\n",
        "#print (e)\n",
        "#MSE = (e[0]**2+e[1]**2+e[2]**2+e[3]**2)/4\n",
        "#print(\"MSE\")\n",
        "#print(MSE)"
      ],
      "metadata": {
        "colab": {
          "base_uri": "https://localhost:8080/"
        },
        "id": "IwBDwrN2tOu0",
        "outputId": "b2eeaff7-bee0-4650-e12f-2bea2d7e28ec"
      },
      "execution_count": 48,
      "outputs": [
        {
          "output_type": "stream",
          "name": "stdout",
          "text": [
            "Output\n",
            "[[ 0.72163764]\n",
            " [-0.05622828]\n",
            " [ 0.57347057]\n",
            " [-0.28155614]\n",
            " [-0.64717296]\n",
            " [ 0.71992411]]\n"
          ]
        }
      ]
    }
  ]
}