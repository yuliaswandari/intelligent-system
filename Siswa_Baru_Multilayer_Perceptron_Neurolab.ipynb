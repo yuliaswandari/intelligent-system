{
  "nbformat": 4,
  "nbformat_minor": 0,
  "metadata": {
    "colab": {
      "name": "Siswa_Baru_Multilayer_Perceptron_Neurolab.ipynb",
      "provenance": [],
      "authorship_tag": "ABX9TyMedQrlSY+VxIRh24bQztoO",
      "include_colab_link": true
    },
    "kernelspec": {
      "name": "python3",
      "display_name": "Python 3"
    },
    "language_info": {
      "name": "python"
    }
  },
  "cells": [
    {
      "cell_type": "markdown",
      "metadata": {
        "id": "view-in-github",
        "colab_type": "text"
      },
      "source": [
        "<a href=\"https://colab.research.google.com/github/yuliaswandari/intelligent-system/blob/main/Siswa_Baru_Multilayer_Perceptron_Neurolab.ipynb\" target=\"_parent\"><img src=\"https://colab.research.google.com/assets/colab-badge.svg\" alt=\"Open In Colab\"/></a>"
      ]
    },
    {
      "cell_type": "code",
      "execution_count": null,
      "metadata": {
        "id": "P3lzlUdEsgx6"
      },
      "outputs": [],
      "source": [
        "!pip install neurolab"
      ]
    },
    {
      "cell_type": "code",
      "source": [
        "# -*- coding: utf-8 -*-\n",
        "\"\"\" \n",
        "Example of use multi-layer perceptron\n",
        "=====================================\n",
        "\n",
        "\"\"\"\n",
        "\n",
        "import neurolab as nl\n",
        "import numpy as np\n",
        "\n",
        "# Create train samples\n",
        "x = np.array([[0.8519,1.000], [0.1111,0.2315], [0.1574,0.1759], [0.0093,0.0185], [0.0093,0.000], [0.3056,0.1944]])\n",
        "#x = np.array([[1.000,0.9537], [0.2315,0.1296], [0.1759,0.1574], [0.0185,0.0093], [0.000,0.0278], [0.1944,0.2407]])\n",
        "y = np.array([0.9537,0.1296,0.1574,0.0093,0.0278,0.2407])\n",
        "\n",
        "inp = x.reshape(6,2)\n",
        "tar = y.reshape(6,1)\n",
        "\n",
        "# Create network with 2 layers and random initialized\n",
        "net = nl.net.newff([[-0.1, 0.1], [-0.1, 0.1]],[4, 1])\n",
        "\n",
        "# Train network\n",
        "error = net.train(inp, tar)\n",
        "\n",
        "# Simulate network\n",
        "out = net.sim(inp)\n",
        "print (\"Output\")\n",
        "print(out)\n",
        "e = tar - out\n",
        "print(\"Error\")\n",
        "print (e)\n",
        "MSE = (e[0]**2+e[1]**2+e[2]**2+e[3]**2)/4\n",
        "print(\"MSE\")\n",
        "print(MSE)"
      ],
      "metadata": {
        "colab": {
          "base_uri": "https://localhost:8080/"
        },
        "id": "IwBDwrN2tOu0",
        "outputId": "d9461d34-21e6-47cb-fd66-5754d76159fc"
      },
      "execution_count": 50,
      "outputs": [
        {
          "output_type": "stream",
          "name": "stdout",
          "text": [
            "The goal of learning is reached\n",
            "Output\n",
            "[[9.19892098e-01]\n",
            " [1.86632160e-01]\n",
            " [1.90890967e-01]\n",
            " [8.03821770e-05]\n",
            " [3.20469924e-02]\n",
            " [1.91058672e-01]]\n",
            "Error\n",
            "[[ 0.0338079 ]\n",
            " [-0.05703216]\n",
            " [-0.03349097]\n",
            " [ 0.00921962]\n",
            " [-0.00424699]\n",
            " [ 0.04964133]]\n",
            "MSE\n",
            "[0.00140057]\n"
          ]
        }
      ]
    }
  ]
}