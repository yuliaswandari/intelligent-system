!pip install neurolab

# -*- coding: utf-8 -*-
""" 
Example of use singe layer perceptron(newp)
===========================================

Train with Delta rule

"""

import neurolab as nl

# Logical &
input = [[0, 0], [0, 1], [1, 0], [1, 1]]
target = [[0], [0], [0], [1]]

# Create net with 2 inputs and 1 neuron
net = nl.net.newp([[0, 1],[0, 1]], 1)

# train with delta rule
# see net.trainf
error = net.train(input, target, epochs=10, show=1, lr=0.1)

out = net.sim(input)
print ("Output")
print(out)
e = target - out
print("Error")
print (e)
MSE = (e[0]**2+e[1]**2+e[2]**2+e[3]**2)/4
print("MSE")
print(MSE)
