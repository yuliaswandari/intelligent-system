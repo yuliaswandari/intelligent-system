{
  "nbformat": 4,
  "nbformat_minor": 0,
  "metadata": {
    "colab": {
      "name": "Perceptron_Neurolab.ipynb",
      "provenance": [],
      "include_colab_link": true
    },
    "kernelspec": {
      "name": "python3",
      "display_name": "Python 3"
    }
  },
  "cells": [
    {
      "cell_type": "markdown",
      "metadata": {
        "id": "view-in-github",
        "colab_type": "text"
      },
      "source": [
        "<a href=\"https://colab.research.google.com/github/yuliaswandari/intelligent-system/blob/main/Perceptron_Neurolab.ipynb\" target=\"_parent\"><img src=\"https://colab.research.google.com/assets/colab-badge.svg\" alt=\"Open In Colab\"/></a>"
      ]
    },
    {
      "cell_type": "code",
      "metadata": {
        "id": "GKNeIXwBB2kC"
      },
      "source": [
        "!pip install neurolab"
      ],
      "execution_count": null,
      "outputs": []
    },
    {
      "cell_type": "code",
      "metadata": {
        "id": "a8MCkQzpBz1j"
      },
      "source": [
        "# -*- coding: utf-8 -*-\n",
        "\"\"\" \n",
        "Example of use singe layer perceptron(newp)\n",
        "===========================================\n",
        "\n",
        "Train with Delta rule\n",
        "\n",
        "\"\"\"\n",
        "\n",
        "import neurolab as nl\n",
        "\n",
        "# Logical &\n",
        "input = [[0, 0], [0, 1], [1, 0], [1, 1]]\n",
        "target = [[0], [0], [0], [1]]\n",
        "\n",
        "# Create net with 2 inputs and 1 neuron\n",
        "net = nl.net.newp([[0, 1],[0, 1]], 1)\n",
        "\n",
        "# train with delta rule\n",
        "# see net.trainf\n",
        "error = net.train(input, target, epochs=10, show=1, lr=0.1)\n",
        "\n",
        "out = net.sim(input)\n",
        "print (\"Output\")\n",
        "print(out)\n",
        "e = target - out\n",
        "print(\"Error\")\n",
        "print (e)\n",
        "MSE = (e[0]**2+e[1]**2+e[2]**2+e[3]**2)/4\n",
        "print(\"MSE\")\n",
        "print(MSE)\n"
      ],
      "execution_count": null,
      "outputs": []
    }
  ]
}