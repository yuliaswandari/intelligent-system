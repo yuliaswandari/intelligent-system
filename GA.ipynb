{
  "nbformat": 4,
  "nbformat_minor": 0,
  "metadata": {
    "colab": {
      "name": "GA",
      "provenance": [],
      "include_colab_link": true
    },
    "kernelspec": {
      "name": "python3",
      "display_name": "Python 3"
    }
  },
  "cells": [
    {
      "cell_type": "markdown",
      "metadata": {
        "id": "view-in-github",
        "colab_type": "text"
      },
      "source": [
        "<a href=\"https://colab.research.google.com/github/yuliaswandari/intelligent-system/blob/main/GA.ipynb\" target=\"_parent\"><img src=\"https://colab.research.google.com/assets/colab-badge.svg\" alt=\"Open In Colab\"/></a>"
      ]
    },
    {
      "cell_type": "markdown",
      "metadata": {
        "id": "JqTheb24Ni2i"
      },
      "source": [
        "Genetic Algorithm from Scratch - Applied to Weekly Rotating Staff Planning"
      ]
    },
    {
      "cell_type": "code",
      "metadata": {
        "id": "wPZ9vcdFKOJb"
      },
      "source": [
        "import numpy as np\n",
        "import pandas as pd"
      ],
      "execution_count": null,
      "outputs": []
    },
    {
      "cell_type": "markdown",
      "metadata": {
        "id": "Rf5uIWk5Ntfs"
      },
      "source": [
        "Staff Planning\n",
        "The goal of this code is to show a genetic algorithm from scratch, while applying it to a business goal.\n",
        "Since we are working on an applied business problem, we start from the shape of the staff planning that is required.\n",
        "We work with a staff planning in which all employees work every weekday, 5 days a week and the weekend our shop is closed. This removes any difficulties on handling days off for the example.\n",
        "A shift is given by a starting time and a shift duration. Breaks are ignored.\n",
        "We have data on the number of staff needed per hour.\n",
        "An employee can be planned to not work on a certain day.\n",
        "Two Shapes of a same planning\n",
        "There are two shapes of the planning: firstly a planning of start time and duration per employee per day, and secondly the operational planning with the total number of employees present for each hour of each day. This second planning is a regrouped version of the first one.\n",
        "\n",
        "Staff Planning shape1 - Planning for employees\n",
        "The staff planning is represented as a list per day (5 days).\n",
        "Each day consits of many lists of length 3.\n",
        "Each list of 3 is an employee with the following items: (staff id, starting time, shift duration)\n",
        "The number of lists is the number of employees that are possibly available on that day.\n",
        "In the below example staff planning you see that there are:\n",
        "11 employees in our case (id 0 to 10)\n",
        "all start times are 0h (midnight)\n",
        "all durations are 10 hours"
      ]
    },
    {
      "cell_type": "code",
      "metadata": {
        "id": "WZhoEn0-N6Sa"
      },
      "source": [
        "staff_planning = [\n",
        "    [[0, 0, 10],[1, 0, 10],[2, 0, 10],[3, 0, 10],[4, 0, 10],[5, 0, 10],[6, 0, 10],[7, 0, 10],[8, 0, 10],[9, 0, 10],[10, 0, 10]],\n",
        "    [[0, 0, 10],[1, 0, 10],[2, 0, 10],[3, 0, 10],[4, 0, 10],[5, 0, 10],[6, 0, 10],[7, 0, 10],[8, 0, 10],[9, 0, 10],[10, 0, 10]],\n",
        "    [[0, 0, 10],[1, 0, 10],[2, 0, 10],[3, 0, 10],[4, 0, 10],[5, 0, 10],[6, 0, 10],[7, 0, 10],[8, 0, 10],[9, 0, 10],[10, 0, 10]],\n",
        "    [[0, 0, 10],[1, 0, 10],[2, 0, 10],[3, 0, 10],[4, 0, 10],[5, 0, 10],[6, 0, 10],[7, 0, 10],[8, 0, 10],[9, 0, 10],[10, 0, 10]],\n",
        "    [[0, 0, 10],[1, 0, 10],[2, 0, 10],[3, 0, 10],[4, 0, 10],[5, 0, 10],[6, 0, 10],[7, 0, 10],[8, 0, 10],[9, 0, 10],[10, 0, 10]]\n",
        "]"
      ],
      "execution_count": null,
      "outputs": []
    },
    {
      "cell_type": "markdown",
      "metadata": {
        "id": "SzWPueVvN-CM"
      },
      "source": [
        "Staff Planning Shape 2 - Planning for shop\n",
        "In order to optimize the above staff planning, we need to have info on what would be a perfect planning.\n",
        "Assume that based on previous days, we know how many staf we need each hour.\n",
        "The staff needed is in the following shape:\n",
        "list of days\n",
        "each day is a list of 24 hours, with the number of employees needed every hour"
      ]
    },
    {
      "cell_type": "code",
      "metadata": {
        "id": "7rNkJKsXOCH4"
      },
      "source": [
        "hourlystaff_needed = np.array([\n",
        "    [0, 0, 0, 0, 0, 0, 4, 4, 4, 2, 2, 2, 6, 6, 2, 2, 2, 6, 6, 6, 2, 2, 2, 2],\n",
        "    [0, 0, 0, 0, 0, 0, 4, 4, 4, 2, 2, 2, 6, 6, 2, 2, 2, 6, 6, 6, 2, 2, 2, 2],\n",
        "    [0, 0, 0, 0, 0, 0, 4, 4, 4, 2, 2, 2, 6, 6, 2, 2, 2, 6, 6, 6, 2, 2, 2, 2],\n",
        "    [0, 0, 0, 0, 0, 0, 4, 4, 4, 2, 2, 2, 6, 6, 2, 2, 2, 6, 6, 6, 2, 2, 2, 2],\n",
        "    [0, 0, 0, 0, 0, 0, 4, 4, 4, 2, 2, 2, 6, 6, 2, 2, 2, 6, 6, 6, 2, 2, 2, 2]\n",
        "])"
      ],
      "execution_count": null,
      "outputs": []
    },
    {
      "cell_type": "markdown",
      "metadata": {
        "id": "H7Ef5iAfOFYB"
      },
      "source": [
        "Conversion from shape 1 (shifts) to shape 2 (staff-per-hour)\n",
        "In the optimization, the genetic algorithm will generate will change iteratively the starting times and the durations.\n",
        "Then, it is converted into number of employees per hour\n",
        "Then it is measured how far away this is from the staff-needed planning.\n",
        "In order to do this easily, we need a function to convert one type of planning into the other one easily. Below is the code for this."
      ]
    },
    {
      "cell_type": "code",
      "metadata": {
        "id": "xQ3xxzFvOIDJ"
      },
      "source": [
        "\"\"\"\n",
        "Employee Present: analyse whether the employee is present yes or no on a given time\n",
        "Based on the employee list of 3 (id, start time, duration)\n",
        "\"\"\"\n",
        "def employee_present(employee, time):\n",
        "    employee_start_time = employee[1]\n",
        "    employee_duration = employee[2]\n",
        "    employee_end_time = employee_start_time + employee_duration\n",
        "    if (time >= employee_start_time) and (time < employee_end_time):\n",
        "        return True\n",
        "    return False"
      ],
      "execution_count": null,
      "outputs": []
    },
    {
      "cell_type": "code",
      "metadata": {
        "id": "XvPVLzjhOOv_"
      },
      "source": [
        "\"\"\"\n",
        "convert a staff planning to a staff-needed plannig\n",
        "The employee planning is organised per employee, the staff-needed planning is the number of employees working per hour\n",
        "The staff-needed planning is based on the employee planning and will allow to calculate the difference with the staff-needed\n",
        "It doesnt work overnight, but our shop isnt open at night anyway\n",
        "\"\"\"\n",
        "def staffplanning_to_hourlyplanning(staff_planning):\n",
        "    \n",
        "    hourlystaff_week = []\n",
        "    for day in staff_planning:\n",
        "        \n",
        "        hourlystaff_day = [] \n",
        "        for employee in day:\n",
        "            \n",
        "            employee_present_hour = []\n",
        "            for time in range(0, 24):\n",
        "                \n",
        "                employee_present_hour.append(employee_present(employee, time))\n",
        "                \n",
        "            hourlystaff_day.append(employee_present_hour)\n",
        "            \n",
        "        hourlystaff_week.append(hourlystaff_day)\n",
        "        \n",
        "    hourlystaff_week = np.array(hourlystaff_week).sum(axis = 1)  \n",
        "    return hourlystaff_week"
      ],
      "execution_count": null,
      "outputs": []
    },
    {
      "cell_type": "markdown",
      "metadata": {
        "id": "vxfO45isOQBB"
      },
      "source": [
        "Code for evaluating a staff planning based on a list of staff needed"
      ]
    },
    {
      "cell_type": "code",
      "metadata": {
        "id": "BfiRQuH8OSx6"
      },
      "source": [
        "\"\"\"\n",
        "the cost is calculated as hours understaffed + hours overstaffed\n",
        "\"\"\"\n",
        "def cost(hourlystaff, hourlystaff_needed):\n",
        "    errors = hourlystaff - hourlystaff_needed\n",
        "    overstaff = abs(errors[errors > 0].sum())\n",
        "    understaff = abs(errors[errors < 0].sum())\n",
        "    \n",
        "    overstaff_cost = 1\n",
        "    understaff_cost = 1\n",
        "    \n",
        "    cost = overstaff_cost * overstaff + understaff_cost * understaff\n",
        "    return cost"
      ],
      "execution_count": null,
      "outputs": []
    },
    {
      "cell_type": "markdown",
      "metadata": {
        "id": "ZSuMIYl-OVSY"
      },
      "source": [
        "Code for the genetic algorithm\n",
        "The random initiamlization\n",
        "Here is the code that randomly initializes a planning.\n",
        "There are a fixed number of days and staff\n",
        "The start time of each employee of each day is a random choice between 0 and 23\n",
        "The duration of each employee of each day is a random choice between 0 and 10"
      ]
    },
    {
      "cell_type": "code",
      "metadata": {
        "id": "BIcp6s_FOYjp"
      },
      "source": [
        "\"\"\"\n",
        "generate an entirely random staff planning for a certain number of days\n",
        "start time is random between 0 and 23; duration is random between 0 and 10\n",
        "\"\"\"\n",
        "def generate_random_staff_planning(n_days, n_staff):\n",
        "    period_planning = []\n",
        "    for day in range(n_days):\n",
        "        day_planning = []\n",
        "        for employee_id in range(n_staff):\n",
        "            start_time = np.random.randint(0, 23)\n",
        "            duration = np.random.randint(0, 10)\n",
        "            employee = [employee_id, start_time, duration]\n",
        "            day_planning.append(employee)\n",
        "\n",
        "        period_planning.append(day_planning)\n",
        "            \n",
        "    return period_planning"
      ],
      "execution_count": null,
      "outputs": []
    },
    {
      "cell_type": "code",
      "metadata": {
        "id": "ZRr4-kPYOj9p"
      },
      "source": [
        "# An example of the code until here\n",
        "\n",
        "# show the random initialization of the week planning\n",
        "random_staff_planning = generate_random_staff_planning(n_days = 5, n_staff = 11)\n",
        "random_staff_planning\n",
        "\n",
        "# show the cost of this random week planning\n",
        "cost(staffplanning_to_hourlyplanning(random_staff_planning), hourlystaff_needed)"
      ],
      "execution_count": null,
      "outputs": []
    },
    {
      "cell_type": "markdown",
      "metadata": {
        "id": "TVuSAQIPOoKC"
      },
      "source": [
        "Define Genetics\n",
        "Define Genetics 1 - Create Generation"
      ]
    },
    {
      "cell_type": "code",
      "metadata": {
        "id": "RXCp3nVWOqCx"
      },
      "source": [
        "\"\"\"\n",
        "create a parent generation of n parent plannings\n",
        "\"\"\"\n",
        "def create_parent_generation(n_parents, n_days = 7, n_staff = 11):\n",
        "    parents = []\n",
        "    for i in range(n_parents):\n",
        "        parent = generate_random_staff_planning(n_days = n_days, n_staff = n_staff)\n",
        "        parents.append(parent)\n",
        "    return parents"
      ],
      "execution_count": null,
      "outputs": []
    },
    {
      "cell_type": "markdown",
      "metadata": {
        "id": "qDN_9iyfOtQq"
      },
      "source": [
        "Define Genetics 2 - Cross Over / Combination"
      ]
    },
    {
      "cell_type": "code",
      "metadata": {
        "id": "Mi8ATZNjOvqg"
      },
      "source": [
        "\"\"\"\n",
        "for each iteration, select randomly two parents and make a random combination of those two parents\n",
        "by applying a randomly generated yes/no mask to the two selected parents\n",
        "\"\"\"\n",
        "def random_combine(parents, n_offspring):\n",
        "    n_parents = len(parents)\n",
        "    n_periods = len(parents[0])\n",
        "    n_employees = len(parents[0][0])\n",
        "    \n",
        "    offspring = []\n",
        "    for i in range(n_offspring):\n",
        "        random_dad = parents[np.random.randint(low = 0, high = n_parents - 1)]\n",
        "        random_mom = parents[np.random.randint(low = 0, high = n_parents - 1)]\n",
        "        \n",
        "        dad_mask = np.random.randint(0, 2, size = np.array(random_dad).shape)\n",
        "        mom_mask = np.logical_not(dad_mask)\n",
        "        \n",
        "        child = np.add(np.multiply(random_dad, dad_mask), np.multiply(random_mom, mom_mask))\n",
        "\n",
        "        offspring.append(child)\n",
        "    return offspring"
      ],
      "execution_count": null,
      "outputs": []
    },
    {
      "cell_type": "markdown",
      "metadata": {
        "id": "Alwx9mUAOyfJ"
      },
      "source": [
        "Define Genetics 3 - Mutation"
      ]
    },
    {
      "cell_type": "code",
      "metadata": {
        "id": "OZZXSzVAO1V4"
      },
      "source": [
        "def mutate_parent(parent, n_mutations):\n",
        "    size1 = parent.shape[0]\n",
        "    size2 = parent.shape[1]\n",
        "    \n",
        "    for i in range(n_mutations):\n",
        "\n",
        "        rand1 = np.random.randint(0, size1)\n",
        "        rand2 = np.random.randint(0, size2)\n",
        "        rand3 = np.random.randint(1, 2)\n",
        "\n",
        "        parent[rand1,rand2,rand3] = np.random.randint(0, 10)\n",
        "\n",
        "    return parent\n",
        "\n",
        "def mutate_gen(parent_gen, n_mutations):\n",
        "    mutated_parent_gen = []\n",
        "    for parent in parent_gen:\n",
        "        mutated_parent_gen.append(mutate_parent(parent, n_mutations))\n",
        "    return mutated_parent_gen"
      ],
      "execution_count": null,
      "outputs": []
    },
    {
      "cell_type": "markdown",
      "metadata": {
        "id": "FHusT_JXO4DQ"
      },
      "source": [
        "Define Genetics 4 - Selection - Feasibility"
      ]
    },
    {
      "cell_type": "code",
      "metadata": {
        "id": "IxbIHOJ2O61x"
      },
      "source": [
        "def is_acceptable(parent):\n",
        "    return np.logical_not((np.array(parent)[:,:,2:] > 10).any()) #work more than 10 hours is not ok\n",
        "\n",
        "def select_acceptable(parent_gen):\n",
        "    parent_gen = [parent for parent in parent_gen if is_acceptable(parent)]\n",
        "    return parent_gen"
      ],
      "execution_count": null,
      "outputs": []
    },
    {
      "cell_type": "markdown",
      "metadata": {
        "id": "xoO_fN7JO9aY"
      },
      "source": [
        "Define Genetics 5 - Selection - Cost (inverse fitness)"
      ]
    },
    {
      "cell_type": "code",
      "metadata": {
        "id": "aWb70m5APAm4"
      },
      "source": [
        "def select_best(parent_gen, hourlystaff_needed, n_best):\n",
        "    costs = []\n",
        "    for idx, parent_staff_planning in enumerate(parent_gen):\n",
        "        \n",
        "        parent_hourly_planning = staffplanning_to_hourlyplanning(parent_staff_planning)\n",
        "        parent_cost = cost(parent_hourly_planning, hourlystaff_needed)\n",
        "        costs.append([idx, parent_cost])\n",
        "    \n",
        "    print('generations best is: {}, generations worst is: {}'.format(pd.DataFrame(costs)[1].min(), pd.DataFrame(costs)[1].max()))\n",
        "    \n",
        "    costs_tmp = pd.DataFrame(costs).sort_values(by = 1, ascending = True).reset_index(drop=True)\n",
        "    selected_parents_idx = list(costs_tmp.iloc[:n_best,0])\n",
        "    selected_parents = [parent for idx, parent in enumerate(parent_gen) if idx in selected_parents_idx]\n",
        "    \n",
        "    return selected_parents"
      ],
      "execution_count": null,
      "outputs": []
    },
    {
      "cell_type": "markdown",
      "metadata": {
        "id": "A6wCdXNFPFV4"
      },
      "source": [
        "The iteration - the complete algorithm"
      ]
    },
    {
      "cell_type": "code",
      "metadata": {
        "id": "BvqloQKDPIfA"
      },
      "source": [
        "\"\"\"\n",
        "the overall function\n",
        "\"\"\"\n",
        "def gen_algo(hourlystaff_needed, n_iterations):   \n",
        "    \n",
        "    generation_size = 500\n",
        "    \n",
        "    parent_gen = create_parent_generation(n_parents = generation_size, n_days = 5, n_staff = 11)\n",
        "    for it in range(n_iterations):\n",
        "        parent_gen = select_acceptable(parent_gen)\n",
        "        parent_gen = select_best(parent_gen, hourlystaff_needed, n_best = 100)\n",
        "        parent_gen = random_combine(parent_gen, n_offspring = generation_size)\n",
        "        parent_gen = mutate_gen(parent_gen, n_mutations = 1)\n",
        "    \n",
        "    best_child = select_best(parent_gen, hourlystaff_needed, n_best = 1)\n",
        "    return best_child"
      ],
      "execution_count": null,
      "outputs": []
    },
    {
      "cell_type": "markdown",
      "metadata": {
        "id": "jqfL6cjaPJkJ"
      },
      "source": [
        "Execute all"
      ]
    },
    {
      "cell_type": "code",
      "metadata": {
        "id": "su0gHNsjPMLB"
      },
      "source": [
        "best_planning = gen_algo(hourlystaff_needed, n_iterations = 100)"
      ],
      "execution_count": null,
      "outputs": []
    },
    {
      "cell_type": "code",
      "metadata": {
        "id": "9jEPmLkrPQTY"
      },
      "source": [
        "print(best_planning)"
      ],
      "execution_count": null,
      "outputs": []
    },
    {
      "cell_type": "code",
      "metadata": {
        "id": "IWHS_EPePSz5"
      },
      "source": [
        "print(staffplanning_to_hourlyplanning(best_planning[0]))"
      ],
      "execution_count": null,
      "outputs": []
    },
    {
      "cell_type": "code",
      "metadata": {
        "id": "l79xKlkWPVnb"
      },
      "source": [
        "print(hourlystaff_needed)"
      ],
      "execution_count": null,
      "outputs": []
    }
  ]
}